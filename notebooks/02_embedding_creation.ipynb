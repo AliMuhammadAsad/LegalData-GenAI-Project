{
 "cells": [
  {
   "cell_type": "markdown",
   "metadata": {},
   "source": [
    "# Embedding Creation\n",
    "\n",
    "This notebook demonstrates the process of creating embeddings for extracted text using Amazon SageMaker. The embeddings will be stored in a vector database for efficient retrieval during the Q&A process."
   ]
  },
  {
   "cell_type": "code",
   "execution_count": 8,
   "metadata": {},
   "outputs": [
    {
     "name": "stdout",
     "output_type": "stream",
     "text": [
      "WARNING:tensorflow:From c:\\Python312\\Lib\\site-packages\\tf_keras\\src\\losses.py:2976: The name tf.losses.sparse_softmax_cross_entropy is deprecated. Please use tf.compat.v1.losses.sparse_softmax_cross_entropy instead.\n",
      "\n"
     ]
    },
    {
     "data": {
      "application/vnd.jupyter.widget-view+json": {
       "model_id": "ed0a8e9b672f4f6296feda7352cf220d",
       "version_major": 2,
       "version_minor": 0
      },
      "text/plain": [
       "README.md:   0%|          | 0.00/10.5k [00:00<?, ?B/s]"
      ]
     },
     "metadata": {},
     "output_type": "display_data"
    },
    {
     "data": {
      "application/vnd.jupyter.widget-view+json": {
       "model_id": "962a21ad4a354dc7b8568ee9dedf90f2",
       "version_major": 2,
       "version_minor": 0
      },
      "text/plain": [
       "model.safetensors:   0%|          | 0.00/90.9M [00:00<?, ?B/s]"
      ]
     },
     "metadata": {},
     "output_type": "display_data"
    },
    {
     "data": {
      "application/vnd.jupyter.widget-view+json": {
       "model_id": "70fca5f20ea049dbbdc195e594ed7a24",
       "version_major": 2,
       "version_minor": 0
      },
      "text/plain": [
       "tokenizer_config.json:   0%|          | 0.00/350 [00:00<?, ?B/s]"
      ]
     },
     "metadata": {},
     "output_type": "display_data"
    },
    {
     "data": {
      "application/vnd.jupyter.widget-view+json": {
       "model_id": "eb302aa4df7945b5b6d8841026e2eee6",
       "version_major": 2,
       "version_minor": 0
      },
      "text/plain": [
       "vocab.txt:   0%|          | 0.00/232k [00:00<?, ?B/s]"
      ]
     },
     "metadata": {},
     "output_type": "display_data"
    },
    {
     "data": {
      "application/vnd.jupyter.widget-view+json": {
       "model_id": "751ebad073b24db48eaa8f88fcb0f95e",
       "version_major": 2,
       "version_minor": 0
      },
      "text/plain": [
       "tokenizer.json:   0%|          | 0.00/466k [00:00<?, ?B/s]"
      ]
     },
     "metadata": {},
     "output_type": "display_data"
    },
    {
     "data": {
      "application/vnd.jupyter.widget-view+json": {
       "model_id": "bba6160efaf346d5ba1261b205f3ac63",
       "version_major": 2,
       "version_minor": 0
      },
      "text/plain": [
       "special_tokens_map.json:   0%|          | 0.00/112 [00:00<?, ?B/s]"
      ]
     },
     "metadata": {},
     "output_type": "display_data"
    },
    {
     "name": "stderr",
     "output_type": "stream",
     "text": [
      "c:\\Python312\\Lib\\site-packages\\transformers\\tokenization_utils_base.py:1601: FutureWarning: `clean_up_tokenization_spaces` was not set. It will be set to `True` by default. This behavior will be depracted in transformers v4.45, and will be then set to `False` by default. For more details check this issue: https://github.com/huggingface/transformers/issues/31884\n",
      "  warnings.warn(\n"
     ]
    },
    {
     "data": {
      "application/vnd.jupyter.widget-view+json": {
       "model_id": "117c8daa0edc4d40964e28e9055772b7",
       "version_major": 2,
       "version_minor": 0
      },
      "text/plain": [
       "config.json:   0%|          | 0.00/190 [00:00<?, ?B/s]"
      ]
     },
     "metadata": {},
     "output_type": "display_data"
    },
    {
     "name": "stdout",
     "output_type": "stream",
     "text": [
      "Embeddings created and saved to embeddings.csv\n"
     ]
    }
   ],
   "source": [
    "import boto3\n",
    "import numpy as np\n",
    "import pandas as pd\n",
    "from sklearn.preprocessing import normalize\n",
    "import json\n",
    "\n",
    "# Initialize AWS clients\n",
    "s3_client = boto3.client('s3')\n",
    "sagemaker_runtime_client = boto3.client('sagemaker-runtime')\n",
    "\n",
    "# Define constants\n",
    "BUCKET_NAME = 'genaiprojectawsbucket'\n",
    "EMBEDDING_MODEL_ENDPOINT = 'document-qa-embedding-model-endpoint'\n",
    "\n",
    "# Function to create embeddings\n",
    "# Add this function to your notebook\n",
    "from sentence_transformers import SentenceTransformer\n",
    "\n",
    "def create_embeddings_local(texts):\n",
    "    model = SentenceTransformer('all-MiniLM-L6-v2')\n",
    "    embeddings = model.encode(texts)\n",
    "    return embeddings\n",
    "\n",
    "\n",
    "# Load extracted text from S3\n",
    "def load_extracted_text(s3_key):\n",
    "    response = s3_client.get_object(Bucket=BUCKET_NAME, Key=s3_key)\n",
    "    text_data = response['Body'].read().decode('utf-8')\n",
    "    return text_data.split('\\n')  # Assuming each line is a separate text entry\n",
    "\n",
    "\n",
    "# Example usage\n",
    "s3_key = 'doc1_text.txt'  # Update with your S3 key\n",
    "extracted_texts = load_extracted_text(s3_key)\n",
    "embeddings = create_embeddings_local(extracted_texts)\n",
    "\n",
    "# Normalize embeddings\n",
    "normalized_embeddings = normalize(embeddings)\n",
    "\n",
    "# Save embeddings to a DataFrame\n",
    "embeddings_df = pd.DataFrame(normalized_embeddings)\n",
    "embeddings_df.to_csv('embeddings.csv', index=False)\n",
    "\n",
    "print('Embeddings created and saved to embeddings.csv')"
   ]
  },
  {
   "cell_type": "code",
   "execution_count": null,
   "metadata": {},
   "outputs": [],
   "source": []
  }
 ],
 "metadata": {
  "kernelspec": {
   "display_name": "Python 3",
   "language": "python",
   "name": "python3"
  },
  "language_info": {
   "codemirror_mode": {
    "name": "ipython",
    "version": 3
   },
   "file_extension": ".py",
   "mimetype": "text/x-python",
   "name": "python",
   "nbconvert_exporter": "python",
   "pygments_lexer": "ipython3",
   "version": "3.12.4"
  }
 },
 "nbformat": 4,
 "nbformat_minor": 4
}
